{
 "cells": [
  {
   "cell_type": "markdown",
   "id": "e1274e39",
   "metadata": {},
   "source": [
    "# Validacion de Tarjetas de Crédito (REGEX)\n"
   ]
  },
  {
   "cell_type": "markdown",
   "id": "e8d261a0",
   "metadata": {},
   "source": [
    "Fredrick y tú son buenos amigos. Ayer, Fredrick recibió N tarjetas de crédito de ABCD Bank. Fredrick requiere verificar si los números de su tarjeta de crédito son válidos o no. Resulta que eres excelente en expresiones regulares, ¡así que él está pidiendo tu ayuda!\n",
    "\n",
    "Una tarjeta de crédito válida de ABCD Bank tiene las siguientes características:\n",
    "\n",
    "Los números de tarjetas deben iniciar con 4, 5 o 6\n",
    "La cantidad de dígitos deben ser 16\n",
    "Deben ser digitos entre [0 - 9]\n",
    "Puede tener dígitos en grupos de 4, separados por un guión \"-\".\n",
    "No debe contener ningún otro separador como ' ' , '_', etc.\n",
    "No debe tener 4 o más dígitos repetidos consecutivos."
   ]
  },
  {
   "cell_type": "markdown",
   "id": "424607e2",
   "metadata": {},
   "source": [
    "# INPUT"
   ]
  },
  {
   "cell_type": "markdown",
   "id": "f6022ee9",
   "metadata": {},
   "source": [
    "4123456789123456\n",
    "5123-4567-8912-3456\n",
    "61234-567-8912-3456\n",
    "4123356789123456\n",
    "5133-3367-8912-3456\n",
    "5123 - 3567 - 8912 - 3456"
   ]
  },
  {
   "cell_type": "markdown",
   "id": "317ef83c",
   "metadata": {},
   "source": [
    "# SOLUCION"
   ]
  },
  {
   "cell_type": "code",
   "execution_count": 1,
   "id": "c1145d40",
   "metadata": {},
   "outputs": [
    {
     "name": "stdout",
     "output_type": "stream",
     "text": [
      "4123456789123456 -> Valid\n",
      "5123-4567-8912-3456 -> Valid\n",
      "61234-567-8912-3456 -> Invalid\n",
      "4123356789123456 -> Valid\n",
      "5133-3367-8912-3456 -> Invalid\n",
      "5123 - 3567 - 8912 - 3456 -> Invalid\n"
     ]
    }
   ],
   "source": [
    "import re\n",
    "\n",
    "evaluar=['4123456789123456','5123-4567-8912-3456','61234-567-8912-3456','4123356789123456','5133-3367-8912-3456','5123 - 3567 - 8912 - 3456']\n",
    "regex=r\"^[456][0-9]{15}$\"\n",
    "regex_guion=r\"^[456]\\d{1,}([\\-])(\\d|[\\-])\"\n",
    "regex_4g=r\"^[456]\\d{3}([\\-])\\d{4}([\\-])\\d{4}([\\-])\\d{4}$\"\n",
    "regex_conse=r\"(?=.*(.)\\1{3,})^[456]\"\n",
    "\n",
    "#Funcion para quitar duplicados\n",
    "def sin_guion(parametro):\n",
    "    #sin_guion = []\n",
    "    #for cc in lista:\n",
    "    T=re.sub(r\"-\",\"\",parametro)\n",
    "    #    sin_guion.append(T)\n",
    "    return T\n",
    "\n",
    "\n",
    "#Validacion\n",
    "for cr in evaluar:\n",
    "    p=re.findall(regex,sin_guion(cr))\n",
    "    o=re.findall(regex_4g,cr)\n",
    "    n=re.findall(regex_guion,cr)\n",
    "    m=re.findall(regex_conse,sin_guion(cr))\n",
    "    \n",
    "    \n",
    "    if len(sin_guion(cr))!=16:  \n",
    "        print(f'{cr} -> Invalid') #total nros iguales a 16\n",
    "    elif m:\n",
    "        print(f'{cr} -> Invalid') #Que no sea consecutivo\n",
    "    elif n:\n",
    "        if o:\n",
    "            print(f'{cr} -> Valid') #que este separado por guion de 4 en 4\n",
    "        else:\n",
    "            print(f'{cr} -> Invalid')\n",
    "    elif p:\n",
    "        print(f'{cr} -> Valid') #que tenga 16 caracteres e inicie en 4,5,6\n",
    "    else:\n",
    "        print(f'{cr} -> Invalid')"
   ]
  },
  {
   "cell_type": "code",
   "execution_count": null,
   "id": "7654ee51",
   "metadata": {},
   "outputs": [],
   "source": []
  }
 ],
 "metadata": {
  "kernelspec": {
   "display_name": "Python 3",
   "language": "python",
   "name": "python3"
  },
  "language_info": {
   "codemirror_mode": {
    "name": "ipython",
    "version": 3
   },
   "file_extension": ".py",
   "mimetype": "text/x-python",
   "name": "python",
   "nbconvert_exporter": "python",
   "pygments_lexer": "ipython3",
   "version": "3.8.8"
  }
 },
 "nbformat": 4,
 "nbformat_minor": 5
}
