{
 "cells": [
  {
   "cell_type": "markdown",
   "id": "73444398",
   "metadata": {},
   "source": [
    "## PROBLEMAS DIVERSOS\n",
    "# FICHERO\n"
   ]
  },
  {
   "cell_type": "markdown",
   "id": "fbf979a5",
   "metadata": {},
   "source": [
    "# 1.\n",
    "Escribir una función que pida un número entero entre 1 y 10 y guarde en un fichero con el nombre tabla-n.txt la tabla de multiplicar de ese número, done n es el número introducido."
   ]
  },
  {
   "cell_type": "code",
   "execution_count": 1,
   "id": "59ec309e",
   "metadata": {},
   "outputs": [
    {
     "name": "stdout",
     "output_type": "stream",
     "text": [
      "Introduce un número entero entre 1 y 10: 3\n"
     ]
    }
   ],
   "source": [
    "numero = int(input('Introduce un número entero entre 1 y 10: '))\n",
    "file = 'tabla-' + str(numero) + '.txt'\n",
    "\n",
    "f = open(file, 'w')\n",
    "for i in range(1, 11):\n",
    "    f.write(str(numero) + ' x ' + str(i) + ' = ' + str(numero * i) + '\\n')\n",
    "f.close()"
   ]
  },
  {
   "cell_type": "markdown",
   "id": "60c2c9bf",
   "metadata": {},
   "source": [
    "# 2.\n",
    "Escribir una función que pida un número entero entre 1 y 10, lea el fichero tabla-n.txt con la tabla de multiplicar de ese número, done n es el número introducido, y la muestre por pantalla. Si el fichero no existe debe mostrar un mensaje por pantalla informando de ello."
   ]
  },
  {
   "cell_type": "code",
   "execution_count": 2,
   "id": "8ccdb3a2",
   "metadata": {},
   "outputs": [
    {
     "name": "stdout",
     "output_type": "stream",
     "text": [
      "Introduce un número entero entre 1 y 10: 3\n",
      "3 x 1 = 3\n",
      "3 x 2 = 6\n",
      "3 x 3 = 9\n",
      "3 x 4 = 12\n",
      "3 x 5 = 15\n",
      "3 x 6 = 18\n",
      "3 x 7 = 21\n",
      "3 x 8 = 24\n",
      "3 x 9 = 27\n",
      "3 x 10 = 30\n",
      "\n"
     ]
    }
   ],
   "source": [
    "numero = int(input('Introduce un número entero entre 1 y 10: '))\n",
    "file = 'tabla-' + str(numero) + '.txt'\n",
    "\n",
    "try: \n",
    "    f = open(file, 'r')\n",
    "except FileNotFoundError:\n",
    "    print('No existe el fichero con la tabla del', numero)\n",
    "else:\n",
    "    print(f.read())"
   ]
  },
  {
   "cell_type": "markdown",
   "id": "6a05a43e",
   "metadata": {},
   "source": [
    "# 3.\n",
    "Escribir una función que pida dos números n y m entre 1 y 10, lea el fichero tabla-n.txt con la tabla de multiplicar de ese número, y muestre por pantalla la línea m del fichero. Si el fichero no existe debe mostrar un mensaje por pantalla informando de ello."
   ]
  },
  {
   "cell_type": "code",
   "execution_count": 3,
   "id": "50c5dce0",
   "metadata": {},
   "outputs": [
    {
     "name": "stdout",
     "output_type": "stream",
     "text": [
      "Introduce un número entero entre 1 y 10: 3\n",
      "Introduce un número entero entre 1 y 10: 5\n",
      "3 x 5 = 15\n",
      "\n"
     ]
    }
   ],
   "source": [
    "n = int(input('Introduce un número entero entre 1 y 10: '))\n",
    "m = int(input('Introduce un número entero entre 1 y 10: '))\n",
    "fichero = 'tabla-' + str(n) + '.txt'\n",
    "\n",
    "try: \n",
    "    f = open(fichero, 'r')\n",
    "except FileNotFoundError:\n",
    "    print('No existe el fichero con la tabla del', n)\n",
    "else:\n",
    "    linea=f.readlines()\n",
    "    print(linea[m-1])\n"
   ]
  },
  {
   "cell_type": "markdown",
   "id": "5ac1dc1a",
   "metadata": {},
   "source": [
    "## Expresiones Regulares"
   ]
  },
  {
   "cell_type": "markdown",
   "id": "ce3ba3c3",
   "metadata": {},
   "source": [
    "# 1.\n",
    "Escriba una expresión regular que encuentre todas las coincidencias que sigan el siguiente patrón.\n",
    "\n",
    "Ej. <code>@robot3!</code>"
   ]
  },
  {
   "cell_type": "code",
   "execution_count": 4,
   "id": "635c34fc",
   "metadata": {},
   "outputs": [
    {
     "name": "stdout",
     "output_type": "stream",
     "text": [
      "['@robot9!']\n",
      "['@robot9!', '@robot4&', '@robot9$', '@robot7%']\n"
     ]
    }
   ],
   "source": [
    "import re\n",
    "s = '@robot9! @robot4& I have a good feeling that the show isgoing to be amazing! @robot9$ @robot7%'\n",
    "patron=r\"@robot\\d!\"\n",
    "print(re.findall(patron,s))\n",
    "\n",
    "\n",
    "print(re.findall(r\"@robot\\d\\D\",s))"
   ]
  },
  {
   "cell_type": "markdown",
   "id": "bf9280e2",
   "metadata": {},
   "source": [
    "# 2.\n",
    "Escriba una expresión regular para cada caso:<br>\n",
    "- todos los usuarios que sigan el siguente patron. User_mentions:9<br>\n",
    "\n",
    "- encuentre los numero de likes: likes: 5<br>\n",
    "\n",
    "- que permita encontrar el numero de retweets. number of retweets: 4<br>"
   ]
  },
  {
   "cell_type": "code",
   "execution_count": 5,
   "id": "10359814",
   "metadata": {},
   "outputs": [
    {
     "name": "stdout",
     "output_type": "stream",
     "text": [
      "['User_mentions:2']\n",
      "['likes: 9']\n",
      "['number of retweets: 7']\n"
     ]
    }
   ],
   "source": [
    "s = \"Unfortunately one of those moments wasn't a giant squid monster. User_mentions:2, likes: 9, number of retweets: 7\"\n",
    "patronUser=r\"User_mentions:\\d\"\n",
    "patronLikes=r\"likes:\\s\\d\"\n",
    "patronRetweets=r\"number of retweets:\\s\\d\"\n",
    "print(re.findall(patronUser,s))\n",
    "print(re.findall(patronLikes,s))\n",
    "print(re.findall(patronRetweets,s))"
   ]
  },
  {
   "cell_type": "markdown",
   "id": "6e412f45",
   "metadata": {},
   "source": [
    "# 3.\n",
    "Escriba una expresión regular que encuente los nombres de archivos txt en la cadena:\n",
    "\n",
    "- Nombre de archivo txt siempre inicia al principio de la cadena\n",
    "- Siempre comienzan con una secuencia de 2 o 3 vocales mayúsculas o minúsculas (a e i o u).\n",
    "- Archivo siempre termina con \".txt\" ."
   ]
  },
  {
   "cell_type": "code",
   "execution_count": 26,
   "id": "8392335d",
   "metadata": {},
   "outputs": [
    {
     "name": "stdout",
     "output_type": "stream",
     "text": [
      "['AIshadowhunters.txt']\n",
      "['AIshadowhunters.txt', 'ouMYTAXES.txt']\n",
      "['AIshadowhunters.txt', 'ouMYTAXES.txt']\n"
     ]
    }
   ],
   "source": [
    "s=\"AIshadowhunters.txt aaaaand back to my literature review. At least i have a friendly cup of coffee to keep me company ouMYTAXES.txt I am worried that I won't get my $900 even though I paid tax last year.\"\n",
    "\n",
    "patronTxt0=r\"^\\w*.txt\"\n",
    "patronVocal=r\"[a,e,i,o,u,A,E,I,O,U]{2,3}\\w*.txt\"\n",
    "patronTxt=r\"\\w*.txt\"\n",
    "print(re.findall(patronTxt0,s))\n",
    "print(re.findall(patronVocal,s))\n",
    "print(re.findall(patronTxt,s))"
   ]
  },
  {
   "cell_type": "markdown",
   "id": "48a9e7ca",
   "metadata": {},
   "source": [
    "# 4.\n",
    "Escriba una expresión regular que valide una lista de correos electrónicos\n",
    "\n",
    "- Primera parte:<br>\n",
    "    - Caracteres en mayuscula y minúscula<br>\n",
    "    - Números<br>\n",
    "    - Caracteres especiales: !, #, %, &, *, $, .<br>\n",
    "- Debe contener @<br>\n",
    "- Dominio:<br>\n",
    "    - Puede ser cualquier conjunto de caracteres<br>\n",
    "    - Solo puede terminar con .com<br>\n",
    "\n",
    "ENTRADA:<br>\n",
    "\n",
    "- ['n.john.smith@gmail.com', '87victory@hotmail.com', '!#mary-=@msca.net']<br>\n",
    "\n",
    "SALIDA:<br>\n",
    "\n",
    "- The email n.john.smith@gmail.com is a valid email<br>\n",
    "- The email 87victory@hotmail.com is a valid email<br>\n",
    "- The email !#mary-=@msca.net is invalid<br>"
   ]
  },
  {
   "cell_type": "code",
   "execution_count": 32,
   "id": "44427c85",
   "metadata": {},
   "outputs": [
    {
     "name": "stdout",
     "output_type": "stream",
     "text": [
      "The email n.john.smith@gmail.com is a valid email\n",
      "The email 87victory@hotmail.com is a valid email\n",
      "The email !#mary-=@msca.net is invalid\n"
     ]
    }
   ],
   "source": [
    "regex = r\"^[a-zA-Z0-9.!#%&$*+]+@[a-zA-Z0-9-]+(?:\\.[a-zA-Z0-9-]+)*.com$\"\n",
    "\n",
    "emails = ['n.john.smith@gmail.com', '87victory@hotmail.com', '!#mary-=@msca.net']\n",
    "for example in emails:\n",
    "    # Match the regex to the string\n",
    "    if re.match(regex, example):\n",
    "        # Complete the format method to print out the result\n",
    "        print(\"The email {email_example} is a valid email\".format(email_example=example))\n",
    "    else:\n",
    "        print(\"The email {email_example} is invalid\".format(email_example=example))"
   ]
  },
  {
   "cell_type": "code",
   "execution_count": null,
   "id": "2f8586fd",
   "metadata": {},
   "outputs": [],
   "source": []
  }
 ],
 "metadata": {
  "kernelspec": {
   "display_name": "Python 3",
   "language": "python",
   "name": "python3"
  },
  "language_info": {
   "codemirror_mode": {
    "name": "ipython",
    "version": 3
   },
   "file_extension": ".py",
   "mimetype": "text/x-python",
   "name": "python",
   "nbconvert_exporter": "python",
   "pygments_lexer": "ipython3",
   "version": "3.8.8"
  }
 },
 "nbformat": 4,
 "nbformat_minor": 5
}
